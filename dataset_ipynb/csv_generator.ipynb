{
 "cells": [
  {
   "cell_type": "code",
   "execution_count": null,
   "id": "534719b4-8f71-4fc0-bb35-c2233696b9b5",
   "metadata": {},
   "outputs": [],
   "source": [
    "import os\n",
    "import pandas as pd"
   ]
  },
  {
   "cell_type": "code",
   "execution_count": null,
   "id": "1ba72c37-3e78-4dcf-866a-7c453346bb33",
   "metadata": {},
   "outputs": [],
   "source": [
    "# Set the base directory for the images\n",
    "data_dir = r\"C:\\Users\\SuperTopSecret-can't-disclose\"\n",
    "output_csv_path = r\"C:\\Users\\SuperTopSecret-can't-disclose\""
   ]
  },
  {
   "cell_type": "code",
   "execution_count": null,
   "id": "acdffd07-310c-45fe-afdf-5810974a8cfe",
   "metadata": {},
   "outputs": [],
   "source": [
    "# Initialize an empty list to store image paths and labels\n",
    "image_data = []"
   ]
  },
  {
   "cell_type": "code",
   "execution_count": null,
   "id": "027804e5-57b8-443a-ab45-aac994b5d77c",
   "metadata": {},
   "outputs": [],
   "source": [
    "# Iterate through the three folders (Moderate, Nil, Severe)\n",
    "for category in [\"Severe\", \"Moderate\", \"Nil\"]:\n",
    "    category_dir = os.path.join(data_dir, category)\n",
    "\n",
    "    # Ensure the category folder exists\n",
    "    if os.path.exists(category_dir):\n",
    "        for root, _, files in os.walk(category_dir):\n",
    "            for file in files:\n",
    "                # Get the full path of the image\n",
    "                image_path = os.path.join(root, file)\n",
    "\n",
    "                # Add the image path and category label to the list\n",
    "                image_data.append([image_path, category])"
   ]
  },
  {
   "cell_type": "code",
   "execution_count": null,
   "id": "cc7efa7e-2652-4cb9-9d83-94972abba3bc",
   "metadata": {},
   "outputs": [],
   "source": [
    "# Create a DataFrame from the list of image data\n",
    "df = pd.DataFrame(image_data, columns=[\"image_path\", \"label\"])"
   ]
  },
  {
   "cell_type": "code",
   "execution_count": null,
   "id": "07a03bff-f642-4bed-8deb-e3ff86f81d36",
   "metadata": {},
   "outputs": [],
   "source": [
    "# Save the DataFrame to a CSV file\n",
    "df.to_csv(output_csv_path, index=False)\n",
    "\n",
    "print(f\"CSV file with image paths and labels saved to: {output_csv_path}\")"
   ]
  }
 ],
 "metadata": {
  "kernelspec": {
   "display_name": "Python (thesis-env)",
   "language": "python",
   "name": "thesis-env"
  },
  "language_info": {
   "codemirror_mode": {
    "name": "ipython",
    "version": 3
   },
   "file_extension": ".py",
   "mimetype": "text/x-python",
   "name": "python",
   "nbconvert_exporter": "python",
   "pygments_lexer": "ipython3",
   "version": "3.10.16"
  }
 },
 "nbformat": 4,
 "nbformat_minor": 5
}
