{
 "cells": [
  {
   "cell_type": "code",
   "execution_count": null,
   "id": "3beb30ce-2cdf-4a34-ad0c-e2c39c2836d7",
   "metadata": {},
   "outputs": [],
   "source": [
    "import tensorflow as tf\n",
    "from tensorflow.keras.applications import DenseNet121\n",
    "from tensorflow.keras.models import Model\n",
    "from tensorflow.keras.layers import Dense, GlobalAveragePooling2D, Dropout\n",
    "from tensorflow.keras.optimizers import Adam\n",
    "from tensorflow.keras.callbacks import ModelCheckpoint, EarlyStopping, ReduceLROnPlateau\n",
    "from tensorflow.keras.preprocessing.image import ImageDataGenerator\n",
    "from sklearn.model_selection import train_test_split\n",
    "from sklearn.metrics import classification_report, confusion_matrix, ConfusionMatrixDisplay\n",
    "import matplotlib.pyplot as plt\n",
    "import pandas as pd\n",
    "import numpy as np\n",
    "import random\n"
   ]
  },
  {
   "cell_type": "code",
   "execution_count": null,
   "id": "447a4219-4773-4ca2-8c60-c8367bd0f467",
   "metadata": {},
   "outputs": [],
   "source": [
    "# Paths\n",
    "dataset_csv = r\"cant-disclose\"\n"
   ]
  },
  {
   "cell_type": "code",
   "execution_count": null,
   "id": "0829a8bf-9428-4a42-999b-baabae377877",
   "metadata": {},
   "outputs": [],
   "source": [
    "\n",
    "# Parameters\n",
    "batch_size = 32\n",
    "image_size = (224, 224)\n",
    "num_classes = 3\n",
    "learning_rate = 1e-4\n",
    "epochs = 30\n"
   ]
  },
  {
   "cell_type": "code",
   "execution_count": null,
   "id": "86c45b26-9bf6-43d7-a9b9-273739176806",
   "metadata": {},
   "outputs": [],
   "source": [
    "# Load CSV and split data\n",
    "df = pd.read_csv(dataset_csv)\n",
    "train_df, val_df = train_test_split(\n",
    "    df, test_size=0.2, stratify=df[\"label\"], random_state=42\n",
    ")\n"
   ]
  },
  {
   "cell_type": "code",
   "execution_count": null,
   "id": "4b0c8a70-34f9-44fb-93b1-796c41d5104a",
   "metadata": {},
   "outputs": [],
   "source": [
    "\n",
    "# Data Generators with Augmentation\n",
    "train_datagen = ImageDataGenerator(\n",
    "    rescale=1.0 / 255,\n",
    "    rotation_range=20,\n",
    "    width_shift_range=0.2,\n",
    "    height_shift_range=0.2,\n",
    "    shear_range=0.2,\n",
    "    zoom_range=0.2,\n",
    "    horizontal_flip=True,\n",
    "    fill_mode=\"nearest\",\n",
    ")\n",
    "\n",
    "val_datagen = ImageDataGenerator(\n",
    "    rescale=1.0 / 255,\n",
    "    zoom_range=0.1,\n",
    "    horizontal_flip=False\n",
    ")\n",
    "\n",
    "train_generator = train_datagen.flow_from_dataframe(\n",
    "    train_df,\n",
    "    x_col=\"image_path\",\n",
    "    y_col=\"label\",\n",
    "    target_size=image_size,\n",
    "    batch_size=batch_size,\n",
    "    class_mode=\"categorical\",\n",
    ")\n",
    "\n",
    "val_generator = val_datagen.flow_from_dataframe(\n",
    "    val_df,\n",
    "    x_col=\"image_path\",\n",
    "    y_col=\"label\",\n",
    "    target_size=image_size,\n",
    "    batch_size=batch_size,\n",
    "    class_mode=\"categorical\",\n",
    ")\n"
   ]
  },
  {
   "cell_type": "code",
   "execution_count": null,
   "id": "02a960d5-e2ba-4dab-bcd7-8fc97f479ee2",
   "metadata": {},
   "outputs": [],
   "source": [
    "\n",
    "# Build the Model\n",
    "base_model = DenseNet121(\n",
    "    weights=\"imagenet\", include_top=False, input_shape=(224, 224, 3)\n",
    ")\n",
    "x = base_model.output\n",
    "x = GlobalAveragePooling2D()(x)\n",
    "x = Dropout(0.5)(x)  # Add dropout for regularization\n",
    "x = Dense(256, activation=\"relu\")(x)\n",
    "x = Dropout(0.5)(x)  # Add another dropout layer\n",
    "predictions = Dense(num_classes, activation=\"softmax\")(x)\n",
    "\n",
    "model = Model(inputs=base_model.input, outputs=predictions)\n"
   ]
  },
  {
   "cell_type": "code",
   "execution_count": null,
   "id": "4a538426-bf07-4874-a489-19733101455f",
   "metadata": {},
   "outputs": [],
   "source": [
    "# Freeze base layers\n",
    "for layer in base_model.layers:\n",
    "    layer.trainable = False\n"
   ]
  },
  {
   "cell_type": "code",
   "execution_count": null,
   "id": "3f76b953-0cbb-4d72-87dd-a84e9eb5b2a6",
   "metadata": {},
   "outputs": [],
   "source": [
    "# Compile the Model\n",
    "model.compile(\n",
    "    optimizer=Adam(learning_rate=learning_rate),\n",
    "    loss=\"categorical_crossentropy\",\n",
    "    metrics=[\"accuracy\"],\n",
    ")\n"
   ]
  },
  {
   "cell_type": "code",
   "execution_count": null,
   "id": "ba7bf855-0f13-400a-92ac-d1b63bff9c6c",
   "metadata": {},
   "outputs": [],
   "source": [
    "# Callbacks\n",
    "checkpoint = ModelCheckpoint(\n",
    "    \"DenseNet121.keras\",\n",
    "    monitor=\"val_accuracy\",\n",
    "    save_best_only=True,\n",
    "    mode=\"max\",\n",
    ")\n",
    "\n",
    "early_stopping = EarlyStopping(\n",
    "    monitor=\"val_loss\", patience=10, restore_best_weights=True\n",
    ")\n",
    "\n",
    "lr_scheduler = ReduceLROnPlateau(monitor=\"val_loss\", factor=0.5, patience=5, verbose=1)\n",
    "\n",
    "callbacks = [checkpoint, early_stopping, lr_scheduler]\n"
   ]
  },
  {
   "cell_type": "code",
   "execution_count": null,
   "id": "717769bc-d344-48f5-9b8d-788273285d5c",
   "metadata": {},
   "outputs": [],
   "source": [
    "# Train the Model\n",
    "history = model.fit(\n",
    "    train_generator,\n",
    "    validation_data=val_generator,\n",
    "    epochs=epochs,\n",
    "    callbacks=callbacks,\n",
    "    verbose=1,\n",
    ")"
   ]
  },
  {
   "cell_type": "code",
   "execution_count": null,
   "id": "b8734967-cbb3-4689-8c3b-9afd36eebfae",
   "metadata": {},
   "outputs": [],
   "source": [
    "# Visualize Learning Curves\n",
    "plt.figure(figsize=(10, 6))\n",
    "plt.plot(history.history['accuracy'], label='Train Accuracy')\n",
    "plt.plot(history.history['val_accuracy'], label='Validation Accuracy')\n",
    "plt.xlabel('Epochs')\n",
    "plt.ylabel('Accuracy')\n",
    "plt.title('Training and Validation Accuracy')\n",
    "plt.legend()\n",
    "plt.grid()\n",
    "plt.show()"
   ]
  },
  {
   "cell_type": "code",
   "execution_count": null,
   "id": "1fd69fa8-cbc1-4092-8205-3ff54b29cbc2",
   "metadata": {},
   "outputs": [],
   "source": [
    "\n",
    "plt.figure(figsize=(10, 6))\n",
    "plt.plot(history.history['loss'], label='Train Loss')\n",
    "plt.plot(history.history['val_loss'], label='Validation Loss')\n",
    "plt.xlabel('Epochs')\n",
    "plt.ylabel('Loss')\n",
    "plt.title('Training and Validation Loss')\n",
    "plt.legend()\n",
    "plt.grid()\n",
    "plt.show()"
   ]
  },
  {
   "cell_type": "code",
   "execution_count": null,
   "id": "37d5be56-ceb1-4951-af96-2e8cbef30809",
   "metadata": {},
   "outputs": [],
   "source": [
    "# Confusion Matrix\n",
    "val_labels = np.argmax(val_generator.labels, axis=-1)\n",
    "val_predictions = np.argmax(model.predict(val_generator), axis=-1)\n",
    "\n"
   ]
  },
  {
   "cell_type": "code",
   "execution_count": null,
   "id": "c9718b51-12e5-490f-9be3-d78aa2850f8a",
   "metadata": {},
   "outputs": [],
   "source": [
    "cm = confusion_matrix(val_labels, val_predictions)\n",
    "disp = ConfusionMatrixDisplay(confusion_matrix=cm, display_labels=val_generator.class_indices.keys())\n",
    "disp.plot(cmap=plt.cm.Blues, values_format='d')\n",
    "plt.title('Confusion Matrix')\n",
    "plt.show()\n"
   ]
  },
  {
   "cell_type": "code",
   "execution_count": null,
   "id": "0c4506c7-fa09-4232-9b6a-78dffd02cd07",
   "metadata": {},
   "outputs": [],
   "source": [
    "# Classification Report\n",
    "report = classification_report(val_labels, val_predictions, target_names=val_generator.class_indices.keys())\n",
    "print(\"Classification Report:\\n\", report)\n"
   ]
  },
  {
   "cell_type": "code",
   "execution_count": null,
   "id": "d48083c5-3d65-44a8-85cc-665a1e797faf",
   "metadata": {},
   "outputs": [],
   "source": [
    "# Save the Final Model\n",
    "model.save(\"DenseNet121_finetuned.keras\")"
   ]
  },
  {
   "cell_type": "code",
   "execution_count": null,
   "id": "a06cbfcf-c50e-419d-b1fe-96384ffc55bf",
   "metadata": {},
   "outputs": [],
   "source": [
    "# Feature Maps Visualization\n",
    "sample_image = val_generator[0][0][0]\n",
    "plt.imshow(sample_image)\n",
    "plt.title(\"Sample Input Image\")\n",
    "plt.show()"
   ]
  },
  {
   "cell_type": "code",
   "execution_count": null,
   "id": "ebae78e4-ec2f-403a-835e-458aa79bdce2",
   "metadata": {},
   "outputs": [],
   "source": [
    "layer_outputs = [layer.output for layer in model.layers[:5]]\n",
    "activation_model = Model(inputs=model.input, outputs=layer_outputs)\n",
    "activations = activation_model.predict(np.expand_dims(sample_image, axis=0))"
   ]
  },
  {
   "cell_type": "code",
   "execution_count": null,
   "id": "6944a418-ed21-4a04-83e4-e16d70dae5e4",
   "metadata": {},
   "outputs": [],
   "source": [
    "for i, activation in enumerate(activations):\n",
    "    plt.figure(figsize=(10, 10))\n",
    "    num_filters = activation.shape[-1]\n",
    "    size = activation.shape[1]\n",
    "    plt.title(f\"Layer {i+1} Feature Maps\")\n",
    "    for j in range(min(num_filters, 8)):  # Show up to 8 feature maps\n",
    "        plt.subplot(1, 8, j + 1)\n",
    "        plt.imshow(activation[0, :, :, j], cmap='viridis')\n",
    "        plt.axis('off')\n",
    "    plt.show()"
   ]
  }
 ],
 "metadata": {
  "kernelspec": {
   "display_name": "Python 3 (ipykernel)",
   "language": "python",
   "name": "python3"
  },
  "language_info": {
   "codemirror_mode": {
    "name": "ipython",
    "version": 3
   },
   "file_extension": ".py",
   "mimetype": "text/x-python",
   "name": "python",
   "nbconvert_exporter": "python",
   "pygments_lexer": "ipython3",
   "version": "3.10.13"
  }
 },
 "nbformat": 4,
 "nbformat_minor": 5
}
