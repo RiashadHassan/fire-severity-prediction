{
 "cells": [
  {
   "cell_type": "code",
   "execution_count": null,
   "id": "b48d820e-6ddf-46a7-9d3d-9c238f23caa8",
   "metadata": {},
   "outputs": [],
   "source": [
    "import os\n",
    "import pandas as pd\n",
    "from PIL import Image"
   ]
  },
  {
   "cell_type": "code",
   "execution_count": null,
   "id": "d612ed2b-2405-40f2-b351-db074260338c",
   "metadata": {},
   "outputs": [],
   "source": [
    "# Define paths\n",
    "input_csv =r\"C:\\Users\\SuperTopSecret-can't-disclose.csv\"\n",
    "output_dir = r\"C:\\Users\\SuperTopSecret-can't-disclose\""
   ]
  },
  {
   "cell_type": "code",
   "execution_count": null,
   "id": "22ad1258-8c62-4287-8954-9e18d9edf73e",
   "metadata": {},
   "outputs": [],
   "source": [
    "# Create output directory if it doesn't exist\n",
    "if not os.path.exists(output_dir):\n",
    "    os.makedirs(output_dir)"
   ]
  },
  {
   "cell_type": "code",
   "execution_count": null,
   "id": "fbc44265-f8a3-4c7c-94f8-e1518973a151",
   "metadata": {},
   "outputs": [],
   "source": [
    "# Read the CSV file\n",
    "df = pd.read_csv(input_csv)"
   ]
  },
  {
   "cell_type": "code",
   "execution_count": null,
   "id": "7d137154-4b0b-42c0-8388-f9911d159427",
   "metadata": {},
   "outputs": [],
   "source": [
    "# Intended size of the Images\n",
    "target_size = (224, 224)"
   ]
  },
  {
   "cell_type": "code",
   "execution_count": null,
   "id": "c431d95c-2496-425e-8f25-613f87340e6c",
   "metadata": {},
   "outputs": [],
   "source": [
    "# Iterate through each image in the dataset\n",
    "for i, row in df.iterrows():\n",
    "    input_path = row[\"image_path\"]\n",
    "    label = row[\"label\"]\n",
    "\n",
    "    # Create label subfolder in output directory\n",
    "    label_dir = os.path.join(output_dir, label)\n",
    "    if not os.path.exists(label_dir):\n",
    "        os.makedirs(label_dir)\n",
    "\n",
    "    # Resize and save image\n",
    "    try:\n",
    "        img = Image.open(input_path)\n",
    "        img = img.convert(\"RGB\")  # Ensure image is in RGB format\n",
    "        img = img.resize(target_size)\n",
    "        output_path = os.path.join(label_dir, os.path.basename(input_path))\n",
    "        img.save(output_path)\n",
    "    except Exception as e:\n",
    "        print(f\"Error processing {input_path}: {e}\")\n",
    "\n",
    "print(f\"All images resized and saved in: {output_dir}\")\n"
   ]
  }
 ],
 "metadata": {
  "kernelspec": {
   "display_name": "Python (thesis-env)",
   "language": "python",
   "name": "thesis-env"
  },
  "language_info": {
   "codemirror_mode": {
    "name": "ipython",
    "version": 3
   },
   "file_extension": ".py",
   "mimetype": "text/x-python",
   "name": "python",
   "nbconvert_exporter": "python",
   "pygments_lexer": "ipython3",
   "version": "3.10.16"
  }
 },
 "nbformat": 4,
 "nbformat_minor": 5
}
