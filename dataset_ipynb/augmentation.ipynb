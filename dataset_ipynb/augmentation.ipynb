{
 "cells": [
  {
   "cell_type": "code",
   "execution_count": 1,
   "metadata": {},
   "outputs": [],
   "source": [
    "import os\n",
    "from tensorflow.keras.preprocessing.image import (\n",
    "    load_img,\n",
    "    img_to_array,\n",
    "    ImageDataGenerator,\n",
    ")"
   ]
  },
  {
   "cell_type": "code",
   "execution_count": null,
   "metadata": {},
   "outputs": [],
   "source": [
    "# Paths\n",
    "# Folder with original moderate images\n",
    "input_folder = r\"C:\\Users\\SuperTopSecret-can't-disclose\"\n",
    "\n",
    "# Folder to save augmented images\n",
    "output_folder = r\"C:\\Users\\SuperTopSecret-can't-disclose\"\n",
    "\n",
    "# Ensure output folder exists\n",
    "os.makedirs(output_folder, exist_ok=True)"
   ]
  },
  {
   "cell_type": "code",
   "execution_count": null,
   "metadata": {},
   "outputs": [],
   "source": [
    "# Augmentation settings\n",
    "datagen = ImageDataGenerator(\n",
    "    rotation_range=20,  # Rotate images up to 20 degrees\n",
    "    width_shift_range=0.2,  # Shift image width by up to 20% of total width\n",
    "    height_shift_range=0.2,  # Shift image height by up to 20% of total height\n",
    "    brightness_range=[0.8, 1.2],  # Adjust brightness by ±20%\n",
    "    zoom_range=0.2,  # Zoom in/out by 20%\n",
    "    horizontal_flip=True,  # Randomly flip images horizontally\n",
    "    fill_mode=\"nearest\",  # Fill pixels outside boundaries with nearest values\n",
    ")\n",
    "\n",
    "# Process images\n",
    "num_augmented_per_image = 3  # Number of new images to generate per original"
   ]
  },
  {
   "cell_type": "code",
   "execution_count": null,
   "metadata": {},
   "outputs": [],
   "source": [
    "for image_file in os.listdir(input_folder):\n",
    "    if image_file.endswith((\".jpg\", \".png\", \".jpeg\")):  # Check for valid image formats\n",
    "        # Load and preprocess image\n",
    "        img_path = os.path.join(input_folder, image_file)\n",
    "        img = load_img(img_path)  # Load image as PIL object\n",
    "        img_array = img_to_array(img)  # Convert to NumPy array\n",
    "        img_array = img_array.reshape(\n",
    "            (1,) + img_array.shape\n",
    "        )  # Reshape for the generator\n",
    "\n",
    "        # Generate augmented images\n",
    "        i = 0\n",
    "        for batch in datagen.flow(\n",
    "            img_array,\n",
    "            batch_size=1,\n",
    "            save_to_dir=output_folder,\n",
    "            save_prefix=\"moderate\",\n",
    "            save_format=\"jpeg\",\n",
    "        ):\n",
    "            i += 1\n",
    "            if i >= num_augmented_per_image:\n",
    "                break  # Stop after generating the desired number of augmentations\n",
    "\n",
    "print(\"Augmentation complete! Augmented images are saved in:\", output_folder)"
   ]
  }
 ],
 "metadata": {
  "kernelspec": {
   "display_name": "Python 3 (ipykernel)",
   "language": "python",
   "name": "python3"
  },
  "language_info": {
   "codemirror_mode": {
    "name": "ipython",
    "version": 3
   },
   "file_extension": ".py",
   "mimetype": "text/x-python",
   "name": "python",
   "nbconvert_exporter": "python",
   "pygments_lexer": "ipython3",
   "version": "3.10.16"
  }
 },
 "nbformat": 4,
 "nbformat_minor": 4
}
