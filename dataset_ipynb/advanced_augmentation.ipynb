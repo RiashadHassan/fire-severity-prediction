{
 "cells": [
  {
   "cell_type": "code",
   "execution_count": null,
   "id": "f9d62ab5-9f41-4ca5-9a8d-9ae612a86139",
   "metadata": {},
   "outputs": [],
   "source": [
    "import os\n",
    "import cv2\n",
    "import albumentations as A\n",
    "from tensorflow.keras.preprocessing.image import (\n",
    "    img_to_array,\n",
    "    array_to_img,\n",
    "    save_img,\n",
    ")"
   ]
  },
  {
   "cell_type": "code",
   "execution_count": null,
   "id": "ab0b419b-6bf4-435c-9f1d-aa66a573cf9f",
   "metadata": {},
   "outputs": [],
   "source": [
    "# Paths\n",
    "# Folder with original augmented images\n",
    "input_folder = r\"C:\\Users\\SuperTopSecret-can't-disclose\"\n",
    "\n",
    "# Folder to save the advanced augmented images\n",
    "output_folder = r\"C:\\Users\\SuperTopSecret-can't-disclose\"\n",
    "\n",
    "# Ensure output folder exists\n",
    "os.makedirs(output_folder, exist_ok=True)"
   ]
  },
  {
   "cell_type": "code",
   "execution_count": null,
   "id": "48143f12-ede8-44ec-939a-b7b262374d80",
   "metadata": {},
   "outputs": [],
   "source": [
    "# Define the augmentation pipeline (without Cutout)\n",
    "transform = A.Compose(\n",
    "    [\n",
    "        A.Rotate(limit=20),  # Rotate by up to 20 degrees\n",
    "        A.RandomSizedCrop(min_max_height=(20, 30), height=224, width=224, p=0.5),\n",
    "        A.HorizontalFlip(p=0.5),  # Flip horizontally with 50% probability\n",
    "        A.RandomBrightnessContrast(p=0.2),  # Adjust brightness and contrast\n",
    "        A.ColorJitter(\n",
    "            brightness=0.2, contrast=0.2, saturation=0.2, hue=0.2, p=0.5\n",
    "        ),  # Random color jitter\n",
    "    ]\n",
    ")\n",
    "# Process images\n",
    "num_augmented_per_image = 3  # Number of new images to generate per original"
   ]
  },
  {
   "cell_type": "code",
   "execution_count": null,
   "id": "0ac73c9b-e93a-49a1-bffc-9aaaab2a4e53",
   "metadata": {},
   "outputs": [],
   "source": [
    "for image_file in os.listdir(input_folder):\n",
    "    if image_file.endswith((\".jpg\", \".png\", \".jpeg\")):  # Check for valid image formats\n",
    "        # Load image\n",
    "        img_path = os.path.join(input_folder, image_file)\n",
    "        img = cv2.imread(img_path)  # Load image using OpenCV\n",
    "        img = cv2.cvtColor(img, cv2.COLOR_BGR2RGB)  # Convert to RGB\n",
    "\n",
    "        # Apply augmentation\n",
    "        augmented = transform(image=img)\n",
    "        augmented_image = augmented[\"image\"]\n",
    "\n",
    "        # Save augmented image\n",
    "        augmented_img = array_to_img(augmented_image)\n",
    "        save_img(os.path.join(output_folder, f\"aug_{image_file}\"), augmented_img)\n",
    "\n",
    "print(\"Augmentation complete! Augmented images are saved in:\", output_folder)"
   ]
  }
 ],
 "metadata": {
  "kernelspec": {
   "display_name": "Python 3 (ipykernel)",
   "language": "python",
   "name": "python3"
  },
  "language_info": {
   "codemirror_mode": {
    "name": "ipython",
    "version": 3
   },
   "file_extension": ".py",
   "mimetype": "text/x-python",
   "name": "python",
   "nbconvert_exporter": "python",
   "pygments_lexer": "ipython3",
   "version": "3.10.16"
  }
 },
 "nbformat": 4,
 "nbformat_minor": 5
}
