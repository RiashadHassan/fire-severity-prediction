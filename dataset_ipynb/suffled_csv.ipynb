{
 "cells": [
  {
   "cell_type": "code",
   "execution_count": null,
   "id": "87e98ad6-e02e-4c75-9cd6-303aa9c3248c",
   "metadata": {},
   "outputs": [],
   "source": [
    "import pandas as pd"
   ]
  },
  {
   "cell_type": "code",
   "execution_count": null,
   "id": "27083a55-8c69-4e0f-853f-f3fe27b0660e",
   "metadata": {},
   "outputs": [],
   "source": [
    "# Path to the input CSV file\n",
    "input_csv =  r\"C:\\Users\\SuperTopSecret-can't-disclose/old-boring-csv.csv\"\n",
    "\n",
    "# Path to the output CSV file (shuffled)\n",
    "output_csv = r\"C:\\Users\\SuperTopSecret-can't-disclose/new-shuffled-csv.csv\""
   ]
  },
  {
   "cell_type": "code",
   "execution_count": null,
   "id": "fd9ae054-286a-46bb-bb68-e1c6c4c92722",
   "metadata": {},
   "outputs": [],
   "source": [
    "# Load the CSV file into a DataFrame\n",
    "df = pd.read_csv(input_csv)\n",
    "\n",
    "# Shuffle the rows of the DataFrame\n",
    "shuffled_df = df.sample(frac=1, random_state=42).reset_index(drop=True)\n",
    "\n",
    "# Save the shuffled DataFrame back to a new CSV file\n",
    "shuffled_df.to_csv(output_csv, index=False)\n",
    "\n",
    "print(f\"Shuffled CSV saved to: {output_csv}\")"
   ]
  }
 ],
 "metadata": {
  "kernelspec": {
   "display_name": "Python (thesis-env)",
   "language": "python",
   "name": "thesis-env"
  },
  "language_info": {
   "codemirror_mode": {
    "name": "ipython",
    "version": 3
   },
   "file_extension": ".py",
   "mimetype": "text/x-python",
   "name": "python",
   "nbconvert_exporter": "python",
   "pygments_lexer": "ipython3",
   "version": "3.10.16"
  }
 },
 "nbformat": 4,
 "nbformat_minor": 5
}
